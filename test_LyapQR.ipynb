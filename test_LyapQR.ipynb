{
 "cells": [
  {
   "cell_type": "code",
   "execution_count": 1,
   "metadata": {},
   "outputs": [],
   "source": [
    "from custom_functions import *\n",
    "from LyapunovQR import *\n",
    "import numpy as np\n",
    "import matplotlib.pyplot as plt"
   ]
  },
  {
   "cell_type": "code",
   "execution_count": 17,
   "metadata": {},
   "outputs": [],
   "source": [
    "def henon(x_arr, alpha, beta):\n",
    "    #x_arr is a numpy array\n",
    "    #x_arr[] = [x, y]\n",
    "    xplus1 = 1 - alpha*x_arr[0]**2 + x_arr[1]\n",
    "    yplus1 = beta*x_arr[0]\n",
    "    return np.array([xplus1, yplus1])\n",
    "\n",
    "\n",
    "#Map M to be used for Lyapunov QR function\n",
    "def M(x_arr):\n",
    "    alpha = 0.8\n",
    "    beta = 0.4\n",
    "    return henon(x_arr, alpha, beta)"
   ]
  },
  {
   "cell_type": "markdown",
   "metadata": {},
   "source": [
    "## Lyapunov exponents for Henon Map"
   ]
  },
  {
   "cell_type": "code",
   "execution_count": 18,
   "metadata": {},
   "outputs": [
    {
     "name": "stdout",
     "output_type": "stream",
     "text": [
      "[-0.12522794 -0.78189989]\n"
     ]
    }
   ],
   "source": [
    "N = 100\n",
    "xini = np.array([1,1.])\n",
    "\n",
    "lyapunov_exp = LyapunovQR(M, xini, N)\n",
    "print(lyapunov_exp)"
   ]
  },
  {
   "cell_type": "markdown",
   "metadata": {},
   "source": [
    "#### Both Lyapunov Exponents are negative (for $\\alpha = 0.8$ and $\\beta = 0.4$) implying a non-chaotic system.\n",
    "#### For $\\alpha = 1.4$ and $\\beta = 0.3$ we get one positive and one negative lyapunov exponent: [0.409 -1.601]"
   ]
  },
  {
   "cell_type": "markdown",
   "metadata": {},
   "source": [
    "## Compare to the eigan values of the jacobian."
   ]
  },
  {
   "cell_type": "code",
   "execution_count": 23,
   "metadata": {},
   "outputs": [],
   "source": [
    "# find the jacobian at each point\n",
    "def df(x_arr):\n",
    "    f = M\n",
    "    h = 1e-6\n",
    "\n",
    "    J = MyJacobian(M,x_arr,h)\n",
    "    J = np.squeeze(J, axis = 2)\n",
    "    return J\n",
    "\n",
    "\n",
    "xini = np.array([1,1.])\n",
    "x = np.zeros((N, n))\n",
    "n = xini.size #n is the dim we are working in, i.e. M: R^n --> R^n\n",
    "x[0] = xini\n",
    "\n",
    "\n",
    "A = np.zeros((N, n, n))\n",
    "A[0] = df(x[0]) \n",
    "\n",
    "i = 0 \n",
    "while i < N-1:\n",
    "    x[i+1] = M(x[i])\n",
    "    A[i+1] = df(x[i+1]) \n",
    "    i+=1\n"
   ]
  },
  {
   "cell_type": "code",
   "execution_count": 34,
   "metadata": {},
   "outputs": [
    {
     "name": "stdout",
     "output_type": "stream",
     "text": [
      "[0.77844583 0.20933912]\n",
      "[0.8612443 0.4644443]\n"
     ]
    }
   ],
   "source": [
    "\n",
    "print(np.exp(2*lyapunov_exp))\n",
    "eigval, eigvec = np.linalg.eig(A[2])\n",
    "print(abs(eigval))"
   ]
  },
  {
   "cell_type": "markdown",
   "metadata": {},
   "source": [
    "#### The eigen values of $M_2(p_1)$ are (0.861, 0.464), which are close to  $e^{2\\lambda_k} = (0.778,  0.209)$ are similar but not the same."
   ]
  }
 ],
 "metadata": {
  "kernelspec": {
   "display_name": "Python 3",
   "language": "python",
   "name": "python3"
  },
  "language_info": {
   "codemirror_mode": {
    "name": "ipython",
    "version": 3
   },
   "file_extension": ".py",
   "mimetype": "text/x-python",
   "name": "python",
   "nbconvert_exporter": "python",
   "pygments_lexer": "ipython3",
   "version": "3.9.1"
  },
  "orig_nbformat": 4
 },
 "nbformat": 4,
 "nbformat_minor": 2
}
