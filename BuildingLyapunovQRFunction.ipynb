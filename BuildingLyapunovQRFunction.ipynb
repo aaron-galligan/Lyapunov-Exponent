{
 "cells": [
  {
   "cell_type": "code",
   "execution_count": 1,
   "metadata": {},
   "outputs": [],
   "source": [
    "from custom_functions import *\n",
    "import numpy as np\n",
    "import matplotlib.pyplot as plt"
   ]
  },
  {
   "cell_type": "code",
   "execution_count": 2,
   "metadata": {},
   "outputs": [],
   "source": [
    "def henon(x_arr, alpha, beta):\n",
    "    #x_arr is a numpy array\n",
    "    #x_arr[] = [x, y]\n",
    "    xplus1 = 1 - alpha*x_arr[0]**2 + x_arr[1]\n",
    "    yplus1 = beta*x_arr[0]\n",
    "    return np.array([xplus1, yplus1])"
   ]
  },
  {
   "cell_type": "code",
   "execution_count": 3,
   "metadata": {},
   "outputs": [],
   "source": [
    "N = 10\n",
    "xini = np.array([1,1.])\n",
    "\n",
    "#Map M\n",
    "def M(x_arr):\n",
    "    alpha = 0.8\n",
    "    beta = 0.4\n",
    "    return henon(x_arr, alpha, beta)\n"
   ]
  },
  {
   "cell_type": "code",
   "execution_count": 4,
   "metadata": {},
   "outputs": [],
   "source": [
    "#Finding the list of x's\n",
    "\n",
    "i = 0\n",
    "n = xini.size #n is the dim we are working in, i.e. M: R^n --> R^n\n",
    "x = np.zeros((N, n))\n",
    "x[0] = xini\n",
    "\n",
    "\n",
    "while i < N-1:\n",
    "    x[i+1] = M(x[i])\n",
    "    i+=1\n"
   ]
  },
  {
   "cell_type": "code",
   "execution_count": 5,
   "metadata": {},
   "outputs": [],
   "source": [
    "\n",
    "# find the jacobian at each point\n",
    "def df(x_arr):\n",
    "    f = M\n",
    "    h = 1e-6\n",
    "\n",
    "    J = MyJacobian(M,x_arr,h)\n",
    "    J = np.squeeze(J, axis = 2)\n",
    "    return J\n",
    "\n",
    "\n",
    "i = 0 \n",
    "A = np.zeros((N, n, n))\n",
    "A[0] = df(x[0]) \n",
    "\n",
    "while i < N-1:\n",
    "    A[i+1] = df(x[i+1]) \n",
    "    i+=1\n",
    "\n"
   ]
  },
  {
   "cell_type": "code",
   "execution_count": 7,
   "metadata": {},
   "outputs": [],
   "source": [
    "Q = np.zeros((N, n, n))\n",
    "Q[0] = np.identity(n)\n",
    "\n",
    "r = np.zeros((N, n))\n",
    "r[0] = np.diag(Q[0])\n",
    "\n",
    "i = 0\n",
    "while i < N-1:\n",
    "    Q[i+1], R = np.linalg.qr(np.matmul(A[i], Q[i]), mode='reduced')\n",
    "\n",
    "    r[i+1] = np.diag(Q[i+1])\n",
    "\n",
    "    i += 1\n",
    "\n",
    "\n"
   ]
  },
  {
   "cell_type": "markdown",
   "metadata": {},
   "source": [
    "# Full Function "
   ]
  },
  {
   "cell_type": "code",
   "execution_count": 18,
   "metadata": {},
   "outputs": [
    {
     "name": "stdout",
     "output_type": "stream",
     "text": [
      "[[1.64924225 0.24253563]\n",
      " [2.14067609 0.18685685]\n",
      " [0.69380002 0.57653501]\n",
      " [2.47475878 0.16163191]\n",
      " [0.82267804 0.48621694]\n",
      " [1.44046037 0.277689  ]\n",
      " [0.86164293 0.46422943]\n",
      " [1.30734469 0.30596368]\n",
      " [0.51958854 0.76983992]]\n"
     ]
    }
   ],
   "source": [
    "#Finding the list of x's\n",
    "\n",
    "i = 0\n",
    "n = xini.size #n is the dim we are working in, i.e. M: R^n --> R^n\n",
    "x = np.zeros((N, n))\n",
    "x[0] = xini\n",
    "\n",
    "\n",
    "i = 0 \n",
    "A = np.zeros((N, n, n))\n",
    "A[0] = df(x[0]) \n",
    "\n",
    "\n",
    "Q = np.zeros((N, n, n))\n",
    "Q[0] = np.identity(n)\n",
    "r = np.zeros((N-1, n))\n",
    "#r[0] = np.diag(Q[0])\n",
    "\n",
    "while i < N-1:\n",
    "    x[i+1] = M(x[i])\n",
    "\n",
    "    A[i+1] = df(x[i+1]) \n",
    "\n",
    "    Q[i+1], R = np.linalg.qr(np.matmul(A[i], Q[i]))\n",
    "    '''\n",
    "    print('')\n",
    "    print('Q[i], R ')\n",
    "    print(Q[i])\n",
    "    print(R)\n",
    "    '''\n",
    "    r[i] = np.diag(R)\n",
    "    \n",
    "    \n",
    "    for j in range(n):\n",
    "        if(r[i, j] < 0):\n",
    "            r[i, j] = -r[i, j]\n",
    "            Q[i+1, :, j] = -Q[i+1, :, j]\n",
    "\n",
    "    i+=1\n",
    "\n",
    "while i < N:\n",
    "    lyapunov_exp = (1/N)*sum(np.log(r))\n",
    "    i += 1\n",
    "print(r)"
   ]
  },
  {
   "cell_type": "markdown",
   "metadata": {},
   "source": [
    "# not the same\n"
   ]
  },
  {
   "cell_type": "code",
   "execution_count": 19,
   "metadata": {},
   "outputs": [
    {
     "name": "stdout",
     "output_type": "stream",
     "text": [
      "[ 0.14361472 -0.96827638]\n",
      "[0.00951063 1.41014279]\n"
     ]
    }
   ],
   "source": [
    "print(lyapunov_exp)\n",
    "eigval, eigvec = np.linalg.eig(A[N-1])\n",
    "print(np.exp(2*eigval))\n",
    "\n",
    "\n"
   ]
  },
  {
   "cell_type": "code",
   "execution_count": null,
   "metadata": {},
   "outputs": [],
   "source": []
  }
 ],
 "metadata": {
  "kernelspec": {
   "display_name": "Python 3",
   "language": "python",
   "name": "python3"
  },
  "language_info": {
   "codemirror_mode": {
    "name": "ipython",
    "version": 3
   },
   "file_extension": ".py",
   "mimetype": "text/x-python",
   "name": "python",
   "nbconvert_exporter": "python",
   "pygments_lexer": "ipython3",
   "version": "3.9.1"
  },
  "orig_nbformat": 4
 },
 "nbformat": 4,
 "nbformat_minor": 2
}
