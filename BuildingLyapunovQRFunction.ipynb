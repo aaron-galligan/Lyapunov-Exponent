{
 "cells": [
  {
   "cell_type": "code",
   "execution_count": 3,
   "metadata": {},
   "outputs": [],
   "source": [
    "from custom_functions import *\n",
    "import numpy as np\n",
    "import matplotlib.pyplot as plt"
   ]
  },
  {
   "cell_type": "code",
   "execution_count": 49,
   "metadata": {},
   "outputs": [],
   "source": [
    "def henon(x_arr, alpha, beta):\n",
    "    #x_arr is a numpy array\n",
    "    #x_arr[] = [x, y]\n",
    "    xplus1 = 1 - alpha*x_arr[0]**2 + x_arr[1]\n",
    "    yplus1 = beta*x_arr[0]\n",
    "    return np.array([xplus1, yplus1])"
   ]
  },
  {
   "cell_type": "code",
   "execution_count": 134,
   "metadata": {},
   "outputs": [],
   "source": [
    "N = 10\n",
    "xini = np.array([1,1.])\n",
    "\n",
    "#Map M\n",
    "def M(x_arr):\n",
    "    alpha = 0.8\n",
    "    beta = 0.4\n",
    "    return henon(x_arr, alpha, beta)\n"
   ]
  },
  {
   "cell_type": "code",
   "execution_count": 135,
   "metadata": {},
   "outputs": [],
   "source": [
    "#Finding the list of x's\n",
    "\n",
    "i = 0\n",
    "n = xini.size #n is the dim we are working in, i.e. M: R^n --> R^n\n",
    "x = np.zeros((N, n))\n",
    "x[0] = xini\n",
    "\n",
    "\n",
    "while i < N-1:\n",
    "    x[i+1] = M(x[i])\n",
    "    i+=1\n"
   ]
  },
  {
   "cell_type": "code",
   "execution_count": 181,
   "metadata": {},
   "outputs": [],
   "source": [
    "\n",
    "# find the jacobian at each point\n",
    "def df(x_arr):\n",
    "    f = M\n",
    "    h = 1e-6\n",
    "\n",
    "    J = MyJacobian(M,x_arr,h)\n",
    "    J = np.squeeze(J, axis = 2)\n",
    "    return J\n",
    "\n",
    "\n",
    "i = 0 \n",
    "A = np.zeros((N, n, n))\n",
    "A[0] = df(x[0]) \n",
    "\n",
    "while i < N-1:\n",
    "    A[i+1] = df(x[i+1]) \n",
    "    i+=1\n",
    "\n"
   ]
  },
  {
   "cell_type": "code",
   "execution_count": 164,
   "metadata": {},
   "outputs": [
    {
     "name": "stdout",
     "output_type": "stream",
     "text": [
      "[[1. 0.]\n",
      " [0. 1.]]\n"
     ]
    }
   ],
   "source": [
    "Q = np.identity(n)\n",
    "print(Q)"
   ]
  },
  {
   "cell_type": "code",
   "execution_count": 177,
   "metadata": {},
   "outputs": [],
   "source": [
    "Q = np.zeros((N, n, n))\n",
    "Q[0] = np.identity(n)\n",
    "\n",
    "r = np.zeros((N, n))\n",
    "r[0] = np.diag(Q[0])\n",
    "\n",
    "i = 0\n",
    "while i < N-1:\n",
    "    Q[i+1], R = np.linalg.qr(np.matmul(A[i], Q[i]), mode='reduced')\n",
    "\n",
    "    r[i+1] = np.diag(Q[i+1])\n",
    "\n",
    "    i += 1\n",
    "\n",
    "\n"
   ]
  },
  {
   "cell_type": "markdown",
   "metadata": {},
   "source": [
    "# Full Function "
   ]
  },
  {
   "cell_type": "code",
   "execution_count": 216,
   "metadata": {},
   "outputs": [],
   "source": [
    "#Finding the list of x's\n",
    "\n",
    "i = 0\n",
    "n = xini.size #n is the dim we are working in, i.e. M: R^n --> R^n\n",
    "x = np.zeros((N, n))\n",
    "x[0] = xini\n",
    "\n",
    "\n",
    "i = 0 \n",
    "A = np.zeros((N, n, n))\n",
    "A[0] = df(x[0]) \n",
    "\n",
    "\n",
    "Q = np.zeros((N, n, n))\n",
    "Q[0] = np.identity(n)\n",
    "r = np.zeros((N, n))\n",
    "r[0] = np.diag(Q[0])\n",
    "\n",
    "while i < N-1:\n",
    "    x[i+1] = M(x[i])\n",
    "\n",
    "    A[i+1] = df(x[i+1]) \n",
    "\n",
    "    Q[i+1], R = np.linalg.qr(np.matmul(A[i], Q[i]))\n",
    "    r[i+1] = np.diag(Q[i+1])\n",
    "    \n",
    "    if(r[i+1, 0] < 0):\n",
    "        r[i+1, 0] = -r[i+1, 0]\n",
    "        Q[i+1, :, 0] = -Q[i+1, :, 0]\n",
    "    elif(r[i+1, 1] < 0):\n",
    "        r[i+1, 1] = -r[i+1, 1]\n",
    "        Q[i+1, :, 1] = -Q[i+1, :, 1]\n",
    "\n",
    "    i+=1\n",
    "\n",
    "while i < N:\n",
    "    lyapunov_exp = (1/N)*sum(np.log(r))\n",
    "    i += 1\n",
    "\n"
   ]
  },
  {
   "cell_type": "markdown",
   "metadata": {},
   "source": [
    "# not the same\n"
   ]
  },
  {
   "cell_type": "code",
   "execution_count": 218,
   "metadata": {},
   "outputs": [
    {
     "name": "stdout",
     "output_type": "stream",
     "text": [
      "[-0.09620927 -0.09620927]\n",
      "[0.00951063 1.41014279]\n"
     ]
    }
   ],
   "source": [
    "print(lyapunov_exp)\n",
    "eigval, eigvec = np.linalg.eig(A[N-1])\n",
    "print(np.exp(2*eigvaltest))\n",
    "\n",
    "\n"
   ]
  },
  {
   "cell_type": "code",
   "execution_count": null,
   "metadata": {},
   "outputs": [],
   "source": []
  }
 ],
 "metadata": {
  "kernelspec": {
   "display_name": "Python 3",
   "language": "python",
   "name": "python3"
  },
  "language_info": {
   "codemirror_mode": {
    "name": "ipython",
    "version": 3
   },
   "file_extension": ".py",
   "mimetype": "text/x-python",
   "name": "python",
   "nbconvert_exporter": "python",
   "pygments_lexer": "ipython3",
   "version": "3.9.1"
  },
  "orig_nbformat": 4
 },
 "nbformat": 4,
 "nbformat_minor": 2
}
